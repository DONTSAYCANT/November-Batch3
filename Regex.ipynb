{
 "cells": [
  {
   "cell_type": "code",
   "execution_count": null,
   "metadata": {},
   "outputs": [],
   "source": [
    "Regular expression:\n",
    "    \n",
    "    extraction of important rhings from log \n",
    "    extracting info from resume\n",
    "    8-15 char int alpha "
   ]
  },
  {
   "cell_type": "code",
   "execution_count": null,
   "metadata": {},
   "outputs": [],
   "source": [
    "Big string or main string  (Resume)\n",
    "\n",
    "\n",
    "=== >\n",
    "\n",
    "REgular expression\n",
    "\n",
    "\n",
    "====> python (String, regex)\n",
    "\n",
    "====> Extracted string or final output\n",
    "\n",
    "(Name, mail id, address, )\n",
    "\n"
   ]
  },
  {
   "cell_type": "code",
   "execution_count": null,
   "metadata": {},
   "outputs": [],
   "source": [
    "#Type 1:  How to write regex\n",
    "\n",
    "#regex101\n",
    "\n",
    "\n",
    "\n",
    "#Type 2: How to apply in python\n",
    "\n",
    "import re\n",
    "\n",
    "re. (string, regex)\n",
    "\n"
   ]
  },
  {
   "cell_type": "code",
   "execution_count": null,
   "metadata": {},
   "outputs": [],
   "source": [
    "#REgex patterns\n",
    "\n",
    "\n",
    "\\d ===> digit\n",
    "\\D ===> Non Digit\n",
    "\\w ===> character\n",
    "\\W ===> non character\n",
    "\\s ===> space\n",
    "\\S ===> non space\n",
    "\n",
    "\n",
    "Quantifiers:\n",
    "    \n",
    "+  one or more\n",
    "*  zero or more \n",
    "?  0 or 1\n",
    "{} number of quantity\n",
    "\n",
    "\n",
    "^ ==> starts with\n",
    "$ ==> ends with\n",
    "\n",
    "\n",
    ". anything except new line (single value)\n",
    "\n",
    "[] ===> single value which is available inside\n",
    "^ ===> not equla or except\n",
    "\n",
    "|\n",
    "()\n",
    "\n",
    "\n",
    "grouping \\a \\b \\B\n",
    "\n",
    "\\b ==> start of substring in string\n",
    "\\B ==> end\n",
    "\\a \n",
    "\\Z \n",
    "\n",
    "\\A\n",
    "\n",
    "\n",
    "(grouping) ===> extracting from extracted one\n",
    "\n",
    "\n",
    "\n"
   ]
  },
  {
   "cell_type": "code",
   "execution_count": null,
   "metadata": {},
   "outputs": [],
   "source": [
    "import re"
   ]
  },
  {
   "cell_type": "code",
   "execution_count": null,
   "metadata": {},
   "outputs": [],
   "source": [
    "#https://www.programiz.com/python-programming/regex"
   ]
  },
  {
   "cell_type": "code",
   "execution_count": 1,
   "metadata": {},
   "outputs": [],
   "source": [
    "import re #regular expression"
   ]
  },
  {
   "cell_type": "code",
   "execution_count": 2,
   "metadata": {},
   "outputs": [
    {
     "name": "stdout",
     "output_type": "stream",
     "text": [
      "['22', '36', '58']\n"
     ]
    }
   ],
   "source": [
    "main_string = \"i have totally 22 pens and 36 pencils and totally 58 things\"\n",
    "\n",
    "pattern = \"\\d{2}\"\n",
    "\n",
    "output = re.findall(pattern, main_string)\n",
    "\n",
    "print(output)"
   ]
  },
  {
   "cell_type": "code",
   "execution_count": 3,
   "metadata": {},
   "outputs": [
    {
     "name": "stdout",
     "output_type": "stream",
     "text": [
      "['i have totally 22 ', 's and 36 ', 'cils and totally 58 things']\n"
     ]
    }
   ],
   "source": [
    "main_string = \"i have totally 22 pens and 36 pencils and totally 58 things\"\n",
    "\n",
    "pattern = \"pen\"\n",
    "\n",
    "output = re.split(pattern, main_string)\n",
    "\n",
    "print(output)"
   ]
  },
  {
   "cell_type": "code",
   "execution_count": 5,
   "metadata": {},
   "outputs": [
    {
     "name": "stdout",
     "output_type": "stream",
     "text": [
      "i have totally *** pens and *** pencils and totally *** things\n"
     ]
    }
   ],
   "source": [
    "main_string = \"i have totally 22 pens and 36 pencils and totally 58 things\"\n",
    "\n",
    "pattern = \"\\d{2}\"\n",
    "\n",
    "sub = \"***\"\n",
    "\n",
    "output = re.sub(pattern,sub, main_string)\n",
    "\n",
    "print(output)"
   ]
  },
  {
   "cell_type": "code",
   "execution_count": 6,
   "metadata": {},
   "outputs": [
    {
     "name": "stdout",
     "output_type": "stream",
     "text": [
      "('i have totally *** pens and *** pencils and totally *** things', 3)\n"
     ]
    }
   ],
   "source": [
    "main_string = \"i have totally 22 pens and 36 pencils and totally 58 things\"\n",
    "\n",
    "pattern = \"\\d{2}\"\n",
    "\n",
    "sub = \"***\"\n",
    "\n",
    "output = re.subn(pattern,sub, main_string)\n",
    "\n",
    "print(output)"
   ]
  },
  {
   "cell_type": "code",
   "execution_count": 18,
   "metadata": {},
   "outputs": [
    {
     "name": "stdout",
     "output_type": "stream",
     "text": [
      "05-11-2021\n",
      "05-11-2021\n",
      "05\n",
      "11\n",
      "2021\n"
     ]
    }
   ],
   "source": [
    "main_string = \"Diwali date is 05-11-2021 and christmans date is 25-12-2021\"\n",
    "\n",
    "pattern = \"((\\d{2})-(\\d{2})-(\\d{4}))\"\n",
    "\n",
    "output = re.search(pattern, main_string)\n",
    "\n",
    "print(output.group())\n",
    "print(output.group(1))\n",
    "print(output.group(2))\n",
    "print(output.group(3))\n",
    "print(output.group(4))\n"
   ]
  },
  {
   "cell_type": "code",
   "execution_count": 22,
   "metadata": {},
   "outputs": [
    {
     "name": "stdout",
     "output_type": "stream",
     "text": [
      "15\n",
      "25\n",
      "(15, 25)\n"
     ]
    }
   ],
   "source": [
    "print(output.start())\n",
    "print(output.end())\n",
    "print(output.span())"
   ]
  },
  {
   "cell_type": "code",
   "execution_count": null,
   "metadata": {},
   "outputs": [],
   "source": []
  }
 ],
 "metadata": {
  "kernelspec": {
   "display_name": "Python 3",
   "language": "python",
   "name": "python3"
  },
  "language_info": {
   "codemirror_mode": {
    "name": "ipython",
    "version": 3
   },
   "file_extension": ".py",
   "mimetype": "text/x-python",
   "name": "python",
   "nbconvert_exporter": "python",
   "pygments_lexer": "ipython3",
   "version": "3.7.6"
  }
 },
 "nbformat": 4,
 "nbformat_minor": 4
}
