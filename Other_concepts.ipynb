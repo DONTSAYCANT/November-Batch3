{
  "nbformat": 4,
  "nbformat_minor": 0,
  "metadata": {
    "colab": {
      "name": "Other concepts.ipynb",
      "provenance": []
    },
    "kernelspec": {
      "name": "python3",
      "display_name": "Python 3"
    },
    "language_info": {
      "name": "python"
    }
  },
  "cells": [
    {
      "cell_type": "code",
      "metadata": {
        "id": "wWHUlSjNB3bi"
      },
      "source": [
        "#how to connect mysql\n",
        "\n",
        "#MYSQLdb\n",
        "#pymysql\n",
        "\n",
        "#steps\n",
        "\n",
        "#connect\n",
        "#execute\n",
        "#cursor\n",
        "#fetch  ==> fetchone all\n",
        "#cloas\n",
        "\n",
        ".commit ==> writing something\n",
        "\n",
        "#https://www.geeksforgeeks.org/mysqldb-connection-python/\n",
        "\n"
      ],
      "execution_count": null,
      "outputs": []
    },
    {
      "cell_type": "code",
      "metadata": {
        "colab": {
          "base_uri": "https://localhost:8080/"
        },
        "id": "nEaZ0PqNEJlA",
        "outputId": "44928d72-cdd0-4310-9f0c-b82acb993c6f"
      },
      "source": [
        "#abstract class and abstract method\n",
        "\n",
        "\n",
        "from abc import ABC,abstractmethod\n",
        "\n",
        "class class_main(ABC):\n",
        "\n",
        "  @abstractmethod\n",
        "  def abstracted_method(self):\n",
        "    pass\n",
        "\n",
        "  def normal_method(self):\n",
        "    print(\"normal method call\")\n",
        "\n",
        "\n",
        "class third_party(class_main):\n",
        "\n",
        "  def abstracted_method(self):\n",
        "    print(\"abstract method from third party\")\n",
        "\n",
        "  def normal_method_third(self):\n",
        "    print(\"third party method\")\n",
        "\n",
        "\n",
        "\n",
        "obj1 = third_party()\n",
        "obj1.normal_method_third()\n"
      ],
      "execution_count": 9,
      "outputs": [
        {
          "output_type": "stream",
          "name": "stdout",
          "text": [
            "third party method\n"
          ]
        }
      ]
    },
    {
      "cell_type": "code",
      "metadata": {
        "colab": {
          "base_uri": "https://localhost:8080/"
        },
        "id": "xvCI61ssEzVL",
        "outputId": "41a07c82-e751-42cf-ca4a-3c60f1787826"
      },
      "source": [
        "()#https://www.geeksforgeeks.org/abstract-classes-in-python/"
      ],
      "execution_count": 2,
      "outputs": [
        {
          "output_type": "execute_result",
          "data": {
            "text/plain": [
              "()"
            ]
          },
          "metadata": {},
          "execution_count": 2
        }
      ]
    },
    {
      "cell_type": "code",
      "metadata": {
        "id": "U5Pqe0QmEzan"
      },
      "source": [
        "public (you can use it)\n",
        "\n",
        "private (Only inside the specific class)\n",
        " \n",
        "protected (class and its subclass)"
      ],
      "execution_count": null,
      "outputs": []
    },
    {
      "cell_type": "code",
      "metadata": {
        "colab": {
          "base_uri": "https://localhost:8080/"
        },
        "id": "ZHzWvmXPH0-s",
        "outputId": "40e1cf93-def4-4d71-b182-ee78912ee169"
      },
      "source": [
        "#protected\n",
        "\n",
        "class Base:\n",
        "    def __init__(self):\n",
        "         \n",
        "        # Protected member\n",
        "        self._a = 2\n",
        " \n",
        "# Creating a derived class   \n",
        "class Derived(Base):\n",
        "    def __init__(self):\n",
        "         \n",
        "        # Calling constructor of\n",
        "        # Base class\n",
        "        Base.__init__(self)\n",
        "        print(\"Calling protected member of base class: \")\n",
        "        print(self._a)\n",
        " \n",
        "obj1 = Derived()\n",
        "         \n",
        "obj2 = Base()\n",
        " \n",
        "# Calling protected member\n",
        "# Outside class will  result in\n",
        "# AttributeError\n",
        "#print(obj2.a)"
      ],
      "execution_count": 10,
      "outputs": [
        {
          "output_type": "stream",
          "name": "stdout",
          "text": [
            "Calling protected member of base class: \n",
            "2\n"
          ]
        }
      ]
    },
    {
      "cell_type": "code",
      "metadata": {
        "colab": {
          "base_uri": "https://localhost:8080/"
        },
        "id": "80Aai1H9IC_L",
        "outputId": "ee389b87-ce0d-4c73-ff51-635e499ee51b"
      },
      "source": [
        "class Base:\n",
        "    def __init__(self):\n",
        "         \n",
        "        # Protected member\n",
        "        self.a = 2\n",
        " \n",
        "# Creating a derived class   \n",
        "class Derived(Base):\n",
        "    def __init__(self):\n",
        "         \n",
        "        # Calling constructor of\n",
        "        # Base class\n",
        "        Base.__init__(self)\n",
        "        print(\"Calling protected member of base class: \")\n",
        "        print(self.a)\n",
        " \n",
        "obj1 = Derived()\n",
        "         \n",
        "obj2 = Base()\n",
        " \n",
        "# Calling protected member\n",
        "# Outside class will  result in\n",
        "# AttributeError\n",
        "print(obj2.a)"
      ],
      "execution_count": 11,
      "outputs": [
        {
          "output_type": "stream",
          "name": "stdout",
          "text": [
            "Calling protected member of base class: \n",
            "2\n",
            "2\n"
          ]
        }
      ]
    },
    {
      "cell_type": "code",
      "metadata": {
        "colab": {
          "base_uri": "https://localhost:8080/",
          "height": 393
        },
        "id": "YScPLeVEH4lB",
        "outputId": "f5389cf2-0a79-45ce-9c8f-6acb00c0353d"
      },
      "source": [
        "class Base:\n",
        "    def __init__(self):\n",
        "         \n",
        "        # Protected member\n",
        "        self.__a = 2\n",
        " \n",
        "# Creating a derived class   \n",
        "class Derived(Base):\n",
        "    def __init__(self):\n",
        "         \n",
        "        # Calling constructor of\n",
        "        # Base class\n",
        "        Base.__init__(self)\n",
        "        print(\"Calling protected member of base class: \")\n",
        "        print(self.__a)\n",
        " \n",
        "obj1 = Derived()\n",
        "         \n",
        "obj2 = Base()\n",
        " \n",
        "# Calling protected member\n",
        "# Outside class will  result in\n",
        "# AttributeError\n",
        "#print(obj2.a)"
      ],
      "execution_count": 12,
      "outputs": [
        {
          "output_type": "stream",
          "name": "stdout",
          "text": [
            "Calling protected member of base class: \n"
          ]
        },
        {
          "output_type": "error",
          "ename": "AttributeError",
          "evalue": "ignored",
          "traceback": [
            "\u001b[0;31m---------------------------------------------------------------------------\u001b[0m",
            "\u001b[0;31mAttributeError\u001b[0m                            Traceback (most recent call last)",
            "\u001b[0;32m<ipython-input-12-b93fdf8ab94e>\u001b[0m in \u001b[0;36m<module>\u001b[0;34m()\u001b[0m\n\u001b[1;32m     15\u001b[0m         \u001b[0mprint\u001b[0m\u001b[0;34m(\u001b[0m\u001b[0mself\u001b[0m\u001b[0;34m.\u001b[0m\u001b[0m__a\u001b[0m\u001b[0;34m)\u001b[0m\u001b[0;34m\u001b[0m\u001b[0;34m\u001b[0m\u001b[0m\n\u001b[1;32m     16\u001b[0m \u001b[0;34m\u001b[0m\u001b[0m\n\u001b[0;32m---> 17\u001b[0;31m \u001b[0mobj1\u001b[0m \u001b[0;34m=\u001b[0m \u001b[0mDerived\u001b[0m\u001b[0;34m(\u001b[0m\u001b[0;34m)\u001b[0m\u001b[0;34m\u001b[0m\u001b[0;34m\u001b[0m\u001b[0m\n\u001b[0m\u001b[1;32m     18\u001b[0m \u001b[0;34m\u001b[0m\u001b[0m\n\u001b[1;32m     19\u001b[0m \u001b[0mobj2\u001b[0m \u001b[0;34m=\u001b[0m \u001b[0mBase\u001b[0m\u001b[0;34m(\u001b[0m\u001b[0;34m)\u001b[0m\u001b[0;34m\u001b[0m\u001b[0;34m\u001b[0m\u001b[0m\n",
            "\u001b[0;32m<ipython-input-12-b93fdf8ab94e>\u001b[0m in \u001b[0;36m__init__\u001b[0;34m(self)\u001b[0m\n\u001b[1;32m     13\u001b[0m         \u001b[0mBase\u001b[0m\u001b[0;34m.\u001b[0m\u001b[0m__init__\u001b[0m\u001b[0;34m(\u001b[0m\u001b[0mself\u001b[0m\u001b[0;34m)\u001b[0m\u001b[0;34m\u001b[0m\u001b[0;34m\u001b[0m\u001b[0m\n\u001b[1;32m     14\u001b[0m         \u001b[0mprint\u001b[0m\u001b[0;34m(\u001b[0m\u001b[0;34m\"Calling protected member of base class: \"\u001b[0m\u001b[0;34m)\u001b[0m\u001b[0;34m\u001b[0m\u001b[0;34m\u001b[0m\u001b[0m\n\u001b[0;32m---> 15\u001b[0;31m         \u001b[0mprint\u001b[0m\u001b[0;34m(\u001b[0m\u001b[0mself\u001b[0m\u001b[0;34m.\u001b[0m\u001b[0m__a\u001b[0m\u001b[0;34m)\u001b[0m\u001b[0;34m\u001b[0m\u001b[0;34m\u001b[0m\u001b[0m\n\u001b[0m\u001b[1;32m     16\u001b[0m \u001b[0;34m\u001b[0m\u001b[0m\n\u001b[1;32m     17\u001b[0m \u001b[0mobj1\u001b[0m \u001b[0;34m=\u001b[0m \u001b[0mDerived\u001b[0m\u001b[0;34m(\u001b[0m\u001b[0;34m)\u001b[0m\u001b[0;34m\u001b[0m\u001b[0;34m\u001b[0m\u001b[0m\n",
            "\u001b[0;31mAttributeError\u001b[0m: 'Derived' object has no attribute '_Derived__a'"
          ]
        }
      ]
    },
    {
      "cell_type": "code",
      "metadata": {
        "colab": {
          "base_uri": "https://localhost:8080/"
        },
        "id": "j7zfwk8KIm2-",
        "outputId": "11ba69aa-5d68-44c1-8fe0-bc7d79fec5c3"
      },
      "source": [
        "class cls1:\n",
        "\n",
        "  def __init__(self):\n",
        "    print(\"init from cls1\")\n",
        "  def func1(self):\n",
        "    print(\"cls1 func1\")\n",
        "\n",
        "\n",
        "class cls2:\n",
        "  def func2(self):\n",
        "    cls1.__init__(self)\n",
        "    cls1.func1(self)\n",
        "    print(\"cls2 func2\")\n",
        "\n",
        "obj2 = cls2()\n",
        "obj2.func2()"
      ],
      "execution_count": 23,
      "outputs": [
        {
          "output_type": "stream",
          "name": "stdout",
          "text": [
            "init from cls1\n",
            "cls1 func1\n",
            "cls2 func2\n"
          ]
        }
      ]
    },
    {
      "cell_type": "code",
      "metadata": {
        "id": "rv9zQseeI0-Q"
      },
      "source": [
        ""
      ],
      "execution_count": null,
      "outputs": []
    }
  ]
}