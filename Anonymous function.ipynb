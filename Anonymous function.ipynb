{
 "cells": [
  {
   "cell_type": "code",
   "execution_count": null,
   "metadata": {},
   "outputs": [],
   "source": [
    "#anonymous function\n",
    "#lambda\n",
    "#map\n",
    "#filter\n",
    "#reduce\n",
    "\n",
    "#set/dictionary/list comprehension\n",
    "\n"
   ]
  },
  {
   "cell_type": "code",
   "execution_count": 1,
   "metadata": {},
   "outputs": [
    {
     "name": "stdout",
     "output_type": "stream",
     "text": [
      "1000\n"
     ]
    }
   ],
   "source": [
    "func = lambda x:x ** 3\n",
    "\n",
    "print(func(10))"
   ]
  },
  {
   "cell_type": "code",
   "execution_count": 2,
   "metadata": {},
   "outputs": [
    {
     "name": "stdout",
     "output_type": "stream",
     "text": [
      "1000\n"
     ]
    }
   ],
   "source": [
    "def func(var1):\n",
    "    return var1 ** 3\n",
    "print(func(10))"
   ]
  },
  {
   "cell_type": "code",
   "execution_count": 3,
   "metadata": {},
   "outputs": [
    {
     "name": "stdout",
     "output_type": "stream",
     "text": [
      "[256, 3125, 27, 4, 46656, 823543, 387420489]\n"
     ]
    }
   ],
   "source": [
    "#map\n",
    "\n",
    "Li1 = [4,5,3,2,6,7,9]\n",
    "map_exp = list(map(lambda x: x **x, Li1))\n",
    "print(map_exp)\n",
    "\n",
    "#map(function, DS)"
   ]
  },
  {
   "cell_type": "code",
   "execution_count": 4,
   "metadata": {},
   "outputs": [
    {
     "name": "stdout",
     "output_type": "stream",
     "text": [
      "[64, 125, 27, 8, 216, 343, 729]\n"
     ]
    }
   ],
   "source": [
    "Li1 = [4,5,3,2,6,7,9]\n",
    "map_exp = list(map(func, Li1))\n",
    "print(map_exp)"
   ]
  },
  {
   "cell_type": "code",
   "execution_count": 8,
   "metadata": {},
   "outputs": [
    {
     "name": "stdout",
     "output_type": "stream",
     "text": [
      "[2, 6]\n"
     ]
    }
   ],
   "source": [
    "#filter\n",
    "\n",
    "Li1 = [4,5,3,2,6,7,9]\n",
    "map_exp = list(filter(lambda x: ((x % 2 == 0) and (x != 4)) , Li1))\n",
    "print(map_exp)"
   ]
  },
  {
   "cell_type": "code",
   "execution_count": 9,
   "metadata": {},
   "outputs": [
    {
     "name": "stdout",
     "output_type": "stream",
     "text": [
      "34\n"
     ]
    }
   ],
   "source": [
    "#reduce\n",
    "\n",
    "from functools import reduce\n",
    "\n",
    "Li1 = [5,6,4,7,3,9]\n",
    "\n",
    "val = reduce(lambda x,y:x+y , Li1)\n",
    "\n",
    "print(val)\n",
    "#5,6,4,7,3,9\n",
    "#11,4,7,3,9\n",
    "#15,7,3,9\n",
    "#"
   ]
  },
  {
   "cell_type": "code",
   "execution_count": 1,
   "metadata": {},
   "outputs": [
    {
     "name": "stdout",
     "output_type": "stream",
     "text": [
      "34\n"
     ]
    }
   ],
   "source": [
    "import functools\n",
    "\n",
    "Li1 = [5,6,4,7,3,9]\n",
    "\n",
    "val = functools.reduce(lambda x,y:x+y , Li1)\n",
    "\n",
    "print(val)"
   ]
  },
  {
   "cell_type": "code",
   "execution_count": 12,
   "metadata": {},
   "outputs": [
    {
     "name": "stdout",
     "output_type": "stream",
     "text": [
      "[4, 16, 4, 16]\n"
     ]
    }
   ],
   "source": [
    "#List comprehension\n",
    "\n",
    "Li1 = [1,2,3,4,-2,-3,-4]\n",
    "\n",
    "output = [i**2 for i in Li1 if i % 2 == 0]\n",
    "print(output)"
   ]
  },
  {
   "cell_type": "code",
   "execution_count": 17,
   "metadata": {},
   "outputs": [
    {
     "ename": "SyntaxError",
     "evalue": "invalid syntax (<ipython-input-17-98fcafcaa504>, line 3)",
     "output_type": "error",
     "traceback": [
      "\u001b[1;36m  File \u001b[1;32m\"<ipython-input-17-98fcafcaa504>\"\u001b[1;36m, line \u001b[1;32m3\u001b[0m\n\u001b[1;33m    output = {i:\"even\" if i % 2 == 0 for i in Li1}\u001b[0m\n\u001b[1;37m                                       ^\u001b[0m\n\u001b[1;31mSyntaxError\u001b[0m\u001b[1;31m:\u001b[0m invalid syntax\n"
     ]
    }
   ],
   "source": [
    "Li1 = [1,2,3,4,-2,-3,-4]\n",
    "\n",
    "output = {i:\"even\" if i % 2 == 0 else i:\"odd\" for i in Li1}\n",
    "print(output)"
   ]
  },
  {
   "cell_type": "code",
   "execution_count": 13,
   "metadata": {},
   "outputs": [
    {
     "name": "stdout",
     "output_type": "stream",
     "text": [
      "{16, 4}\n"
     ]
    }
   ],
   "source": [
    "Li1 = [1,2,3,4,-2,-3,-4]\n",
    "\n",
    "output = {i**2 for i in Li1 if i % 2 == 0}\n",
    "print(output)"
   ]
  },
  {
   "cell_type": "code",
   "execution_count": 14,
   "metadata": {},
   "outputs": [
    {
     "name": "stdout",
     "output_type": "stream",
     "text": [
      "{2: 4, 4: 16, -2: 4, -4: 16}\n"
     ]
    }
   ],
   "source": [
    "Li1 = [1,2,3,4,-2,-3,-4]\n",
    "\n",
    "output = {i:i**2 for i in Li1 if i % 2 == 0}\n",
    "print(output)"
   ]
  },
  {
   "cell_type": "code",
   "execution_count": 21,
   "metadata": {},
   "outputs": [
    {
     "name": "stdout",
     "output_type": "stream",
     "text": [
      "<class 'generator'>\n",
      "(2, 4, -2, -4)\n"
     ]
    }
   ],
   "source": [
    "Li1 = (1,2,3,4,-2,-3,-4)\n",
    "\n",
    "output = (i for i in Li1 if i % 2 == 0)\n",
    "print(type(output))\n",
    "print(tuple(output))"
   ]
  },
  {
   "cell_type": "code",
   "execution_count": null,
   "metadata": {},
   "outputs": [],
   "source": []
  }
 ],
 "metadata": {
  "kernelspec": {
   "display_name": "Python 3",
   "language": "python",
   "name": "python3"
  },
  "language_info": {
   "codemirror_mode": {
    "name": "ipython",
    "version": 3
   },
   "file_extension": ".py",
   "mimetype": "text/x-python",
   "name": "python",
   "nbconvert_exporter": "python",
   "pygments_lexer": "ipython3",
   "version": "3.7.6"
  }
 },
 "nbformat": 4,
 "nbformat_minor": 4
}
