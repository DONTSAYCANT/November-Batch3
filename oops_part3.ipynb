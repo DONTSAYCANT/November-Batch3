{
  "nbformat": 4,
  "nbformat_minor": 0,
  "metadata": {
    "colab": {
      "name": "oops_part3.ipynb",
      "provenance": [],
      "collapsed_sections": []
    },
    "kernelspec": {
      "name": "python3",
      "display_name": "Python 3"
    },
    "language_info": {
      "name": "python"
    },
    "accelerator": "GPU"
  },
  "cells": [
    {
      "cell_type": "code",
      "metadata": {
        "id": "vuwzxVtLRccm"
      },
      "source": [
        "import os"
      ],
      "execution_count": 2,
      "outputs": []
    },
    {
      "cell_type": "code",
      "metadata": {
        "colab": {
          "base_uri": "https://localhost:8080/",
          "height": 36
        },
        "id": "5ClhiJ9iRkut",
        "outputId": "8c0f06b2-8208-4501-8f00-e1f1fd18125c"
      },
      "source": [
        "os.getcwd()"
      ],
      "execution_count": 3,
      "outputs": [
        {
          "output_type": "execute_result",
          "data": {
            "application/vnd.google.colaboratory.intrinsic+json": {
              "type": "string"
            },
            "text/plain": [
              "'/content'"
            ]
          },
          "metadata": {},
          "execution_count": 3
        }
      ]
    },
    {
      "cell_type": "code",
      "metadata": {
        "id": "2muxkKEDQQ-X"
      },
      "source": [
        "#class\n",
        "#object\n",
        "#args/methods/attributes\n",
        "\n",
        "#self\n",
        "#__init__  contructor\n",
        "#inheritance: single/multiple/multilevel/hierarchical/hybrid\n",
        "\n"
      ],
      "execution_count": null,
      "outputs": []
    },
    {
      "cell_type": "code",
      "metadata": {
        "id": "p2yxXr6EQuRx"
      },
      "source": [
        "#method overriding\n",
        "\n",
        "class parent:\n",
        "  def method1(self):\n",
        "    return \"this is from parent method1\"\n",
        "\n",
        "class child(parent):\n",
        "  def method1(self):\n",
        "    return \"this is from child method1\""
      ],
      "execution_count": 1,
      "outputs": []
    },
    {
      "cell_type": "code",
      "metadata": {
        "colab": {
          "base_uri": "https://localhost:8080/"
        },
        "id": "S4N_j2eWQuxW",
        "outputId": "75d9a225-9fb0-43d3-9373-e174b2fa42f0"
      },
      "source": [
        "obj1 = parent()\n",
        "print(obj1.method1())"
      ],
      "execution_count": 3,
      "outputs": [
        {
          "output_type": "stream",
          "name": "stdout",
          "text": [
            "this is from parent method1\n"
          ]
        }
      ]
    },
    {
      "cell_type": "code",
      "metadata": {
        "colab": {
          "base_uri": "https://localhost:8080/"
        },
        "id": "Ww3reCoeQu0e",
        "outputId": "c70d4cba-f2c1-4851-9ea3-53dc4fd965cf"
      },
      "source": [
        "obj2 = child()\n",
        "print(obj2.method1())\n",
        "\n",
        "#method overriding\n",
        "\n",
        "#whenever inheritaance going on\n",
        "#parent and child ==> same method"
      ],
      "execution_count": 5,
      "outputs": [
        {
          "output_type": "stream",
          "name": "stdout",
          "text": [
            "this is from child method1\n"
          ]
        }
      ]
    },
    {
      "cell_type": "code",
      "metadata": {
        "colab": {
          "base_uri": "https://localhost:8080/"
        },
        "id": "N4G5q8VaQu3d",
        "outputId": "4db82616-2cf4-4f2b-88dc-67d1077fb105"
      },
      "source": [
        "class cls1:\n",
        "  def method1(self):\n",
        "    return \"cls1 method1\"\n",
        "\n",
        "  def method2(self):\n",
        "    return \"cls1 method2\"\n",
        "\n",
        "class cls2(cls1):\n",
        "  def method3(self):\n",
        "    print(\"super function\")\n",
        "    print(super().method1())\n",
        "    return \"cls2 method3\"\n",
        "\n",
        "  def method4(self):\n",
        "    return \"cls2 method4\"\n",
        "\n",
        "\n",
        "#super function\n",
        "\n",
        "\n",
        "obj1 = cls1()\n",
        "print(\"class 1\")\n",
        "print(obj1.method1())\n",
        "print(obj1.method2())\n",
        "\n",
        "obj2 = cls2()\n",
        "print(\"class 2\")\n",
        "print(obj2.method3())\n",
        "print(obj2.method4())\n",
        "print(obj2.method1())\n",
        "print(obj2.method2())"
      ],
      "execution_count": 16,
      "outputs": [
        {
          "output_type": "stream",
          "name": "stdout",
          "text": [
            "class 1\n",
            "cls1 method1\n",
            "cls1 method2\n",
            "class 2\n",
            "super function\n",
            "cls1 method1\n",
            "cls2 method3\n",
            "cls2 method4\n",
            "cls1 method1\n",
            "cls1 method2\n"
          ]
        }
      ]
    },
    {
      "cell_type": "code",
      "metadata": {
        "colab": {
          "base_uri": "https://localhost:8080/",
          "height": 282
        },
        "id": "WDMT8HgxQRGm",
        "outputId": "eca69fa6-4393-4965-a5d1-4b3ed4adab49"
      },
      "source": [
        "#static method\n",
        "\n",
        "class cls1:\n",
        "  fixture = 20\n",
        "\n",
        "  def __init__(self, fixture2):\n",
        "    self.fixture2 = fixture2\n",
        "\n",
        "  def method1(self):\n",
        "    print(self)\n",
        "    return self.fixture, self.fixture2\n",
        "    \n",
        "  @staticmethod\n",
        "  def method2():\n",
        "    return \"good evening welcome to OOPS\"\n",
        "\n",
        "obj1 = cls1(\"gggg\")\n",
        "print(obj1.method1())\n",
        "\n",
        "obj2 = cls1(\"ffff\")\n",
        "print(obj2.method1())\n",
        "\n",
        "print(obj1.method2())\n"
      ],
      "execution_count": 26,
      "outputs": [
        {
          "output_type": "stream",
          "name": "stdout",
          "text": [
            "<__main__.cls1 object at 0x7f77449773d0>\n",
            "(20, 'gggg')\n",
            "<__main__.cls1 object at 0x7f774498c3d0>\n",
            "(20, 'ffff')\n"
          ]
        },
        {
          "output_type": "error",
          "ename": "TypeError",
          "evalue": "ignored",
          "traceback": [
            "\u001b[0;31m---------------------------------------------------------------------------\u001b[0m",
            "\u001b[0;31mTypeError\u001b[0m                                 Traceback (most recent call last)",
            "\u001b[0;32m<ipython-input-26-13c76b81bbb3>\u001b[0m in \u001b[0;36m<module>\u001b[0;34m()\u001b[0m\n\u001b[1;32m     20\u001b[0m \u001b[0mprint\u001b[0m\u001b[0;34m(\u001b[0m\u001b[0mobj2\u001b[0m\u001b[0;34m.\u001b[0m\u001b[0mmethod1\u001b[0m\u001b[0;34m(\u001b[0m\u001b[0;34m)\u001b[0m\u001b[0;34m)\u001b[0m\u001b[0;34m\u001b[0m\u001b[0;34m\u001b[0m\u001b[0m\n\u001b[1;32m     21\u001b[0m \u001b[0;34m\u001b[0m\u001b[0m\n\u001b[0;32m---> 22\u001b[0;31m \u001b[0mprint\u001b[0m\u001b[0;34m(\u001b[0m\u001b[0mobj1\u001b[0m\u001b[0;34m.\u001b[0m\u001b[0mmethod2\u001b[0m\u001b[0;34m(\u001b[0m\u001b[0;34m)\u001b[0m\u001b[0;34m)\u001b[0m\u001b[0;34m\u001b[0m\u001b[0;34m\u001b[0m\u001b[0m\n\u001b[0m",
            "\u001b[0;31mTypeError\u001b[0m: method2() takes 0 positional arguments but 1 was given"
          ]
        }
      ]
    },
    {
      "cell_type": "code",
      "metadata": {
        "colab": {
          "base_uri": "https://localhost:8080/"
        },
        "id": "63e4xlYsQRKB",
        "outputId": "40f4dd00-4fd5-4993-82af-18fdf3a0e2af"
      },
      "source": [
        "#class method\n",
        "\n",
        "class cls1:\n",
        "  fixture = 20\n",
        "\n",
        "  def __init__(self, fixture2):\n",
        "    self.fixture2 = fixture2\n",
        "\n",
        "  def method1(self):\n",
        "    print(self)\n",
        "    return self.fixture, self.fixture2\n",
        "    \n",
        "  @classmethod\n",
        "  def method2(cls):\n",
        "    #print(cls.fixture)\n",
        "    print(cls.fixture)\n",
        "    return \"good evening welcome to OOPS\"\n",
        "\n",
        "obj1 = cls1(\"gggg\")\n",
        "print(obj1.method1())\n",
        "\n",
        "obj2 = cls1(\"ffff\")\n",
        "print(obj2.method1())\n",
        "\n",
        "print(obj1.method2())"
      ],
      "execution_count": 32,
      "outputs": [
        {
          "output_type": "stream",
          "name": "stdout",
          "text": [
            "<__main__.cls1 object at 0x7f7744a21710>\n",
            "(20, 'gggg')\n",
            "<__main__.cls1 object at 0x7f7744a21fd0>\n",
            "(20, 'ffff')\n",
            "20\n",
            "good evening welcome to OOPS\n"
          ]
        }
      ]
    },
    {
      "cell_type": "code",
      "metadata": {
        "id": "jkqhpvdgQRMU"
      },
      "source": [
        ""
      ],
      "execution_count": null,
      "outputs": []
    },
    {
      "cell_type": "code",
      "metadata": {
        "id": "Ksh0FC6nQRPW"
      },
      "source": [
        ""
      ],
      "execution_count": null,
      "outputs": []
    },
    {
      "cell_type": "code",
      "metadata": {
        "id": "S-C8ONO4QRRZ"
      },
      "source": [
        ""
      ],
      "execution_count": null,
      "outputs": []
    },
    {
      "cell_type": "code",
      "metadata": {
        "id": "8dMewi0kRnMg"
      },
      "source": [
        ""
      ],
      "execution_count": null,
      "outputs": []
    }
  ]
}