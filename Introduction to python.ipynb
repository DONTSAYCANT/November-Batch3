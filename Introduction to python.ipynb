{
 "cells": [
  {
   "cell_type": "code",
   "execution_count": null,
   "metadata": {},
   "outputs": [],
   "source": [
    "#Basic \n",
    "\n",
    "python programming basic\n",
    "Data types\n",
    "String indexing and slicing\n",
    "Data structure\n",
    "List tuple set dictionary methods\n",
    "Conditional stmts if elif else\n",
    "Loops for while for else while else continue pass break\n",
    "Functions inbuilt funtions User functions other\n",
    "Anonymous function, lambda, comprehension\n",
    "\n",
    "#Mid level\n",
    "\n",
    "Exception handline\n",
    "Modules/Libraries inbuilt modules/User def\n",
    "Collecions \n",
    "data time \n",
    "os and sys\n",
    "re regular expression\n",
    "File handline\n",
    "\n",
    "\n",
    "#Advanced \n",
    "\n",
    "Oops\n",
    "class and object\n",
    "Inheritance\n",
    "overriding\n",
    "abstract class\n",
    "super class\n",
    "encapsulation\n",
    "Multi threading\n",
    "data base \n",
    "network connectivity django basics\n"
   ]
  },
  {
   "cell_type": "code",
   "execution_count": 3,
   "metadata": {},
   "outputs": [
    {
     "name": "stdout",
     "output_type": "stream",
     "text": [
      "puter\n",
      "cmue\n"
     ]
    }
   ],
   "source": [
    "a = \"computer\"\n",
    "\n",
    "print(a[3:])\n",
    "\n",
    "#cmue\n",
    "\n",
    "print(a[::2])"
   ]
  },
  {
   "cell_type": "code",
   "execution_count": null,
   "metadata": {},
   "outputs": [],
   "source": [
    "a = [10,12,15,16,18,19,0,3,0]\n",
    "\n",
    "The list of even numbers are [10,12,16,18]\n",
    "The List of odd numbers are [15,19,3]\n",
    "The number of zeros in the list 2"
   ]
  },
  {
   "cell_type": "code",
   "execution_count": null,
   "metadata": {},
   "outputs": [],
   "source": [
    "#Get one integer from user\n",
    "#26\n",
    "\n",
    "multiple of 3 ==> Fizz\n",
    "multiple of 5  ==> buzz\n",
    "multiple of 3 and 5 ==> Fizzbuzz\n",
    "not a multiple ==> None\n",
    "\n",
    "#0  None\n",
    "#1  None\n",
    "#2  None\n",
    "#3  Fizz\n",
    "#5  Buzz\n",
    "#15 Fizzbuzz"
   ]
  },
  {
   "cell_type": "code",
   "execution_count": null,
   "metadata": {},
   "outputs": [],
   "source": [
    "#Get one number from user\n",
    "#Check whether prime or non prime"
   ]
  },
  {
   "cell_type": "code",
   "execution_count": null,
   "metadata": {},
   "outputs": [],
   "source": []
  },
  {
   "cell_type": "code",
   "execution_count": null,
   "metadata": {},
   "outputs": [],
   "source": []
  }
 ],
 "metadata": {
  "kernelspec": {
   "display_name": "Python 3",
   "language": "python",
   "name": "python3"
  },
  "language_info": {
   "codemirror_mode": {
    "name": "ipython",
    "version": 3
   },
   "file_extension": ".py",
   "mimetype": "text/x-python",
   "name": "python",
   "nbconvert_exporter": "python",
   "pygments_lexer": "ipython3",
   "version": "3.7.6"
  }
 },
 "nbformat": 4,
 "nbformat_minor": 4
}
